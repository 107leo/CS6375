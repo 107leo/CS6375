{
  "nbformat": 4,
  "nbformat_minor": 0,
  "metadata": {
    "colab": {
      "name": "Untitled1.ipynb",
      "provenance": []
    },
    "kernelspec": {
      "name": "python3",
      "display_name": "Python 3"
    },
    "language_info": {
      "name": "python"
    }
  },
  "cells": [
    {
      "cell_type": "code",
      "execution_count": 78,
      "metadata": {
        "id": "VIxURMg1P9Ok"
      },
      "outputs": [],
      "source": [
        "import pandas as pd\n",
        "import numpy as np\n",
        "import seaborn as sns\n",
        "import matplotlib.pyplot as pl\n",
        "from sklearn.model_selection import train_test_split"
      ]
    },
    {
      "cell_type": "code",
      "source": [
        " data_path = 'imports-85.data'\n",
        " df = pd.read_csv(data_path)"
      ],
      "metadata": {
        "id": "Yjqz3GgMQT4_"
      },
      "execution_count": 55,
      "outputs": []
    },
    {
      "cell_type": "code",
      "source": [
        "header = ['symboling','normalized-losses','make','fuel-type','aspiration','num-of-doors','body-style','drive-wheels','engine-location','wheel-base','length','width','height','curb-weight','engine-type','num-of-cylinders','engine-size','fuel-system','bore','stroke','compression-ratio','horsepower','peak-rpm','city-mpg','highway-mpg','price']\n",
        "\n",
        "df.columns = header"
      ],
      "metadata": {
        "id": "-b19qsqUQeqF"
      },
      "execution_count": 56,
      "outputs": []
    },
    {
      "cell_type": "code",
      "source": [
        "  df.replace('?',np.nan, inplace=True)\n",
        "  df.dropna(inplace=True)"
      ],
      "metadata": {
        "id": "mLcCqA6TWwrh"
      },
      "execution_count": 58,
      "outputs": []
    },
    {
      "cell_type": "code",
      "source": [
        "  df['normalized-losses'] = df['normalized-losses'].astype('int')\n",
        "  df['bore'] = df['bore'].astype('float')\n",
        "  df['stroke'] = df['stroke'].astype('float')\n",
        "  df['horsepower'] = df['horsepower'].astype('float')\n",
        "  df['peak-rpm'] = df['peak-rpm'].astype('int')\n",
        "  df['price'] = df['price'].astype('int')"
      ],
      "metadata": {
        "id": "-B_7aLXOXOfH"
      },
      "execution_count": 59,
      "outputs": []
    },
    {
      "cell_type": "code",
      "source": [
        "df = df.select_dtypes(exclude=['object'])"
      ],
      "metadata": {
        "id": "JsHBYgWaVFk6"
      },
      "execution_count": 61,
      "outputs": []
    },
    {
      "cell_type": "code",
      "source": [
        "  df = pd.get_dummies(df)\n",
        "  df\n"
      ],
      "metadata": {
        "colab": {
          "base_uri": "https://localhost:8080/",
          "height": 424
        },
        "id": "W-HQ4ywjf0OH",
        "outputId": "796800c2-b7b1-4e85-c79b-3e75a3b561b4"
      },
      "execution_count": 62,
      "outputs": [
        {
          "output_type": "execute_result",
          "data": {
            "text/html": [
              "\n",
              "  <div id=\"df-a25aec00-2e82-4336-be3c-8b7138b9f02f\">\n",
              "    <div class=\"colab-df-container\">\n",
              "      <div>\n",
              "<style scoped>\n",
              "    .dataframe tbody tr th:only-of-type {\n",
              "        vertical-align: middle;\n",
              "    }\n",
              "\n",
              "    .dataframe tbody tr th {\n",
              "        vertical-align: top;\n",
              "    }\n",
              "\n",
              "    .dataframe thead th {\n",
              "        text-align: right;\n",
              "    }\n",
              "</style>\n",
              "<table border=\"1\" class=\"dataframe\">\n",
              "  <thead>\n",
              "    <tr style=\"text-align: right;\">\n",
              "      <th></th>\n",
              "      <th>symboling</th>\n",
              "      <th>normalized-losses</th>\n",
              "      <th>wheel-base</th>\n",
              "      <th>length</th>\n",
              "      <th>width</th>\n",
              "      <th>height</th>\n",
              "      <th>curb-weight</th>\n",
              "      <th>engine-size</th>\n",
              "      <th>bore</th>\n",
              "      <th>stroke</th>\n",
              "      <th>compression-ratio</th>\n",
              "      <th>horsepower</th>\n",
              "      <th>peak-rpm</th>\n",
              "      <th>city-mpg</th>\n",
              "      <th>highway-mpg</th>\n",
              "      <th>price</th>\n",
              "    </tr>\n",
              "  </thead>\n",
              "  <tbody>\n",
              "    <tr>\n",
              "      <th>2</th>\n",
              "      <td>2</td>\n",
              "      <td>164</td>\n",
              "      <td>99.8</td>\n",
              "      <td>176.6</td>\n",
              "      <td>66.2</td>\n",
              "      <td>54.3</td>\n",
              "      <td>2337</td>\n",
              "      <td>109</td>\n",
              "      <td>3.19</td>\n",
              "      <td>3.40</td>\n",
              "      <td>10.0</td>\n",
              "      <td>102.0</td>\n",
              "      <td>5500</td>\n",
              "      <td>24</td>\n",
              "      <td>30</td>\n",
              "      <td>13950</td>\n",
              "    </tr>\n",
              "    <tr>\n",
              "      <th>3</th>\n",
              "      <td>2</td>\n",
              "      <td>164</td>\n",
              "      <td>99.4</td>\n",
              "      <td>176.6</td>\n",
              "      <td>66.4</td>\n",
              "      <td>54.3</td>\n",
              "      <td>2824</td>\n",
              "      <td>136</td>\n",
              "      <td>3.19</td>\n",
              "      <td>3.40</td>\n",
              "      <td>8.0</td>\n",
              "      <td>115.0</td>\n",
              "      <td>5500</td>\n",
              "      <td>18</td>\n",
              "      <td>22</td>\n",
              "      <td>17450</td>\n",
              "    </tr>\n",
              "    <tr>\n",
              "      <th>5</th>\n",
              "      <td>1</td>\n",
              "      <td>158</td>\n",
              "      <td>105.8</td>\n",
              "      <td>192.7</td>\n",
              "      <td>71.4</td>\n",
              "      <td>55.7</td>\n",
              "      <td>2844</td>\n",
              "      <td>136</td>\n",
              "      <td>3.19</td>\n",
              "      <td>3.40</td>\n",
              "      <td>8.5</td>\n",
              "      <td>110.0</td>\n",
              "      <td>5500</td>\n",
              "      <td>19</td>\n",
              "      <td>25</td>\n",
              "      <td>17710</td>\n",
              "    </tr>\n",
              "    <tr>\n",
              "      <th>7</th>\n",
              "      <td>1</td>\n",
              "      <td>158</td>\n",
              "      <td>105.8</td>\n",
              "      <td>192.7</td>\n",
              "      <td>71.4</td>\n",
              "      <td>55.9</td>\n",
              "      <td>3086</td>\n",
              "      <td>131</td>\n",
              "      <td>3.13</td>\n",
              "      <td>3.40</td>\n",
              "      <td>8.3</td>\n",
              "      <td>140.0</td>\n",
              "      <td>5500</td>\n",
              "      <td>17</td>\n",
              "      <td>20</td>\n",
              "      <td>23875</td>\n",
              "    </tr>\n",
              "    <tr>\n",
              "      <th>9</th>\n",
              "      <td>2</td>\n",
              "      <td>192</td>\n",
              "      <td>101.2</td>\n",
              "      <td>176.8</td>\n",
              "      <td>64.8</td>\n",
              "      <td>54.3</td>\n",
              "      <td>2395</td>\n",
              "      <td>108</td>\n",
              "      <td>3.50</td>\n",
              "      <td>2.80</td>\n",
              "      <td>8.8</td>\n",
              "      <td>101.0</td>\n",
              "      <td>5800</td>\n",
              "      <td>23</td>\n",
              "      <td>29</td>\n",
              "      <td>16430</td>\n",
              "    </tr>\n",
              "    <tr>\n",
              "      <th>...</th>\n",
              "      <td>...</td>\n",
              "      <td>...</td>\n",
              "      <td>...</td>\n",
              "      <td>...</td>\n",
              "      <td>...</td>\n",
              "      <td>...</td>\n",
              "      <td>...</td>\n",
              "      <td>...</td>\n",
              "      <td>...</td>\n",
              "      <td>...</td>\n",
              "      <td>...</td>\n",
              "      <td>...</td>\n",
              "      <td>...</td>\n",
              "      <td>...</td>\n",
              "      <td>...</td>\n",
              "      <td>...</td>\n",
              "    </tr>\n",
              "    <tr>\n",
              "      <th>199</th>\n",
              "      <td>-1</td>\n",
              "      <td>95</td>\n",
              "      <td>109.1</td>\n",
              "      <td>188.8</td>\n",
              "      <td>68.9</td>\n",
              "      <td>55.5</td>\n",
              "      <td>2952</td>\n",
              "      <td>141</td>\n",
              "      <td>3.78</td>\n",
              "      <td>3.15</td>\n",
              "      <td>9.5</td>\n",
              "      <td>114.0</td>\n",
              "      <td>5400</td>\n",
              "      <td>23</td>\n",
              "      <td>28</td>\n",
              "      <td>16845</td>\n",
              "    </tr>\n",
              "    <tr>\n",
              "      <th>200</th>\n",
              "      <td>-1</td>\n",
              "      <td>95</td>\n",
              "      <td>109.1</td>\n",
              "      <td>188.8</td>\n",
              "      <td>68.8</td>\n",
              "      <td>55.5</td>\n",
              "      <td>3049</td>\n",
              "      <td>141</td>\n",
              "      <td>3.78</td>\n",
              "      <td>3.15</td>\n",
              "      <td>8.7</td>\n",
              "      <td>160.0</td>\n",
              "      <td>5300</td>\n",
              "      <td>19</td>\n",
              "      <td>25</td>\n",
              "      <td>19045</td>\n",
              "    </tr>\n",
              "    <tr>\n",
              "      <th>201</th>\n",
              "      <td>-1</td>\n",
              "      <td>95</td>\n",
              "      <td>109.1</td>\n",
              "      <td>188.8</td>\n",
              "      <td>68.9</td>\n",
              "      <td>55.5</td>\n",
              "      <td>3012</td>\n",
              "      <td>173</td>\n",
              "      <td>3.58</td>\n",
              "      <td>2.87</td>\n",
              "      <td>8.8</td>\n",
              "      <td>134.0</td>\n",
              "      <td>5500</td>\n",
              "      <td>18</td>\n",
              "      <td>23</td>\n",
              "      <td>21485</td>\n",
              "    </tr>\n",
              "    <tr>\n",
              "      <th>202</th>\n",
              "      <td>-1</td>\n",
              "      <td>95</td>\n",
              "      <td>109.1</td>\n",
              "      <td>188.8</td>\n",
              "      <td>68.9</td>\n",
              "      <td>55.5</td>\n",
              "      <td>3217</td>\n",
              "      <td>145</td>\n",
              "      <td>3.01</td>\n",
              "      <td>3.40</td>\n",
              "      <td>23.0</td>\n",
              "      <td>106.0</td>\n",
              "      <td>4800</td>\n",
              "      <td>26</td>\n",
              "      <td>27</td>\n",
              "      <td>22470</td>\n",
              "    </tr>\n",
              "    <tr>\n",
              "      <th>203</th>\n",
              "      <td>-1</td>\n",
              "      <td>95</td>\n",
              "      <td>109.1</td>\n",
              "      <td>188.8</td>\n",
              "      <td>68.9</td>\n",
              "      <td>55.5</td>\n",
              "      <td>3062</td>\n",
              "      <td>141</td>\n",
              "      <td>3.78</td>\n",
              "      <td>3.15</td>\n",
              "      <td>9.5</td>\n",
              "      <td>114.0</td>\n",
              "      <td>5400</td>\n",
              "      <td>19</td>\n",
              "      <td>25</td>\n",
              "      <td>22625</td>\n",
              "    </tr>\n",
              "  </tbody>\n",
              "</table>\n",
              "<p>159 rows × 16 columns</p>\n",
              "</div>\n",
              "      <button class=\"colab-df-convert\" onclick=\"convertToInteractive('df-a25aec00-2e82-4336-be3c-8b7138b9f02f')\"\n",
              "              title=\"Convert this dataframe to an interactive table.\"\n",
              "              style=\"display:none;\">\n",
              "        \n",
              "  <svg xmlns=\"http://www.w3.org/2000/svg\" height=\"24px\"viewBox=\"0 0 24 24\"\n",
              "       width=\"24px\">\n",
              "    <path d=\"M0 0h24v24H0V0z\" fill=\"none\"/>\n",
              "    <path d=\"M18.56 5.44l.94 2.06.94-2.06 2.06-.94-2.06-.94-.94-2.06-.94 2.06-2.06.94zm-11 1L8.5 8.5l.94-2.06 2.06-.94-2.06-.94L8.5 2.5l-.94 2.06-2.06.94zm10 10l.94 2.06.94-2.06 2.06-.94-2.06-.94-.94-2.06-.94 2.06-2.06.94z\"/><path d=\"M17.41 7.96l-1.37-1.37c-.4-.4-.92-.59-1.43-.59-.52 0-1.04.2-1.43.59L10.3 9.45l-7.72 7.72c-.78.78-.78 2.05 0 2.83L4 21.41c.39.39.9.59 1.41.59.51 0 1.02-.2 1.41-.59l7.78-7.78 2.81-2.81c.8-.78.8-2.07 0-2.86zM5.41 20L4 18.59l7.72-7.72 1.47 1.35L5.41 20z\"/>\n",
              "  </svg>\n",
              "      </button>\n",
              "      \n",
              "  <style>\n",
              "    .colab-df-container {\n",
              "      display:flex;\n",
              "      flex-wrap:wrap;\n",
              "      gap: 12px;\n",
              "    }\n",
              "\n",
              "    .colab-df-convert {\n",
              "      background-color: #E8F0FE;\n",
              "      border: none;\n",
              "      border-radius: 50%;\n",
              "      cursor: pointer;\n",
              "      display: none;\n",
              "      fill: #1967D2;\n",
              "      height: 32px;\n",
              "      padding: 0 0 0 0;\n",
              "      width: 32px;\n",
              "    }\n",
              "\n",
              "    .colab-df-convert:hover {\n",
              "      background-color: #E2EBFA;\n",
              "      box-shadow: 0px 1px 2px rgba(60, 64, 67, 0.3), 0px 1px 3px 1px rgba(60, 64, 67, 0.15);\n",
              "      fill: #174EA6;\n",
              "    }\n",
              "\n",
              "    [theme=dark] .colab-df-convert {\n",
              "      background-color: #3B4455;\n",
              "      fill: #D2E3FC;\n",
              "    }\n",
              "\n",
              "    [theme=dark] .colab-df-convert:hover {\n",
              "      background-color: #434B5C;\n",
              "      box-shadow: 0px 1px 3px 1px rgba(0, 0, 0, 0.15);\n",
              "      filter: drop-shadow(0px 1px 2px rgba(0, 0, 0, 0.3));\n",
              "      fill: #FFFFFF;\n",
              "    }\n",
              "  </style>\n",
              "\n",
              "      <script>\n",
              "        const buttonEl =\n",
              "          document.querySelector('#df-a25aec00-2e82-4336-be3c-8b7138b9f02f button.colab-df-convert');\n",
              "        buttonEl.style.display =\n",
              "          google.colab.kernel.accessAllowed ? 'block' : 'none';\n",
              "\n",
              "        async function convertToInteractive(key) {\n",
              "          const element = document.querySelector('#df-a25aec00-2e82-4336-be3c-8b7138b9f02f');\n",
              "          const dataTable =\n",
              "            await google.colab.kernel.invokeFunction('convertToInteractive',\n",
              "                                                     [key], {});\n",
              "          if (!dataTable) return;\n",
              "\n",
              "          const docLinkHtml = 'Like what you see? Visit the ' +\n",
              "            '<a target=\"_blank\" href=https://colab.research.google.com/notebooks/data_table.ipynb>data table notebook</a>'\n",
              "            + ' to learn more about interactive tables.';\n",
              "          element.innerHTML = '';\n",
              "          dataTable['output_type'] = 'display_data';\n",
              "          await google.colab.output.renderOutput(dataTable, element);\n",
              "          const docLink = document.createElement('div');\n",
              "          docLink.innerHTML = docLinkHtml;\n",
              "          element.appendChild(docLink);\n",
              "        }\n",
              "      </script>\n",
              "    </div>\n",
              "  </div>\n",
              "  "
            ],
            "text/plain": [
              "     symboling  normalized-losses  wheel-base  ...  city-mpg  highway-mpg  price\n",
              "2            2                164        99.8  ...        24           30  13950\n",
              "3            2                164        99.4  ...        18           22  17450\n",
              "5            1                158       105.8  ...        19           25  17710\n",
              "7            1                158       105.8  ...        17           20  23875\n",
              "9            2                192       101.2  ...        23           29  16430\n",
              "..         ...                ...         ...  ...       ...          ...    ...\n",
              "199         -1                 95       109.1  ...        23           28  16845\n",
              "200         -1                 95       109.1  ...        19           25  19045\n",
              "201         -1                 95       109.1  ...        18           23  21485\n",
              "202         -1                 95       109.1  ...        26           27  22470\n",
              "203         -1                 95       109.1  ...        19           25  22625\n",
              "\n",
              "[159 rows x 16 columns]"
            ]
          },
          "metadata": {},
          "execution_count": 62
        }
      ]
    },
    {
      "cell_type": "code",
      "source": [
        "print(df.describe(include=\"all\"))"
      ],
      "metadata": {
        "colab": {
          "base_uri": "https://localhost:8080/"
        },
        "id": "KZN8tk9-gyzu",
        "outputId": "071670dc-92ed-4646-b3cc-9078a22f490b"
      },
      "execution_count": 63,
      "outputs": [
        {
          "output_type": "stream",
          "name": "stdout",
          "text": [
            "        symboling  normalized-losses  ...  highway-mpg         price\n",
            "count  159.000000         159.000000  ...   159.000000    159.000000\n",
            "mean     0.735849         121.132075  ...    32.081761  11445.729560\n",
            "std      1.193086          35.651285  ...     6.459189   5877.856195\n",
            "min     -2.000000          65.000000  ...    18.000000   5118.000000\n",
            "25%      0.000000          94.000000  ...    28.000000   7372.000000\n",
            "50%      1.000000         113.000000  ...    32.000000   9233.000000\n",
            "75%      2.000000         148.000000  ...    37.000000  14719.500000\n",
            "max      3.000000         256.000000  ...    54.000000  35056.000000\n",
            "\n",
            "[8 rows x 16 columns]\n"
          ]
        }
      ]
    },
    {
      "cell_type": "code",
      "source": [
        "df.columns"
      ],
      "metadata": {
        "colab": {
          "base_uri": "https://localhost:8080/"
        },
        "id": "UrdITMmrg8ck",
        "outputId": "73db70fa-836d-49a3-c110-c035fac0deb5"
      },
      "execution_count": 64,
      "outputs": [
        {
          "output_type": "execute_result",
          "data": {
            "text/plain": [
              "Index(['symboling', 'normalized-losses', 'wheel-base', 'length', 'width',\n",
              "       'height', 'curb-weight', 'engine-size', 'bore', 'stroke',\n",
              "       'compression-ratio', 'horsepower', 'peak-rpm', 'city-mpg',\n",
              "       'highway-mpg', 'price'],\n",
              "      dtype='object')"
            ]
          },
          "metadata": {},
          "execution_count": 64
        }
      ]
    },
    {
      "cell_type": "code",
      "source": [
        "df.corr()"
      ],
      "metadata": {
        "colab": {
          "base_uri": "https://localhost:8080/",
          "height": 551
        },
        "id": "hRAygMYWh3EA",
        "outputId": "44093a4f-f0d2-4fca-dcb0-5ced2d633df9"
      },
      "execution_count": 65,
      "outputs": [
        {
          "output_type": "execute_result",
          "data": {
            "text/html": [
              "\n",
              "  <div id=\"df-fe59cffa-43c1-4ff7-be95-c519f60483a5\">\n",
              "    <div class=\"colab-df-container\">\n",
              "      <div>\n",
              "<style scoped>\n",
              "    .dataframe tbody tr th:only-of-type {\n",
              "        vertical-align: middle;\n",
              "    }\n",
              "\n",
              "    .dataframe tbody tr th {\n",
              "        vertical-align: top;\n",
              "    }\n",
              "\n",
              "    .dataframe thead th {\n",
              "        text-align: right;\n",
              "    }\n",
              "</style>\n",
              "<table border=\"1\" class=\"dataframe\">\n",
              "  <thead>\n",
              "    <tr style=\"text-align: right;\">\n",
              "      <th></th>\n",
              "      <th>symboling</th>\n",
              "      <th>normalized-losses</th>\n",
              "      <th>wheel-base</th>\n",
              "      <th>length</th>\n",
              "      <th>width</th>\n",
              "      <th>height</th>\n",
              "      <th>curb-weight</th>\n",
              "      <th>engine-size</th>\n",
              "      <th>bore</th>\n",
              "      <th>stroke</th>\n",
              "      <th>compression-ratio</th>\n",
              "      <th>horsepower</th>\n",
              "      <th>peak-rpm</th>\n",
              "      <th>city-mpg</th>\n",
              "      <th>highway-mpg</th>\n",
              "      <th>price</th>\n",
              "    </tr>\n",
              "  </thead>\n",
              "  <tbody>\n",
              "    <tr>\n",
              "      <th>symboling</th>\n",
              "      <td>1.000000</td>\n",
              "      <td>0.518344</td>\n",
              "      <td>-0.520591</td>\n",
              "      <td>-0.336257</td>\n",
              "      <td>-0.219186</td>\n",
              "      <td>-0.475185</td>\n",
              "      <td>-0.251880</td>\n",
              "      <td>-0.109453</td>\n",
              "      <td>-0.256469</td>\n",
              "      <td>-0.021285</td>\n",
              "      <td>-0.138316</td>\n",
              "      <td>-0.003949</td>\n",
              "      <td>0.199106</td>\n",
              "      <td>0.089550</td>\n",
              "      <td>0.149830</td>\n",
              "      <td>-0.162794</td>\n",
              "    </tr>\n",
              "    <tr>\n",
              "      <th>normalized-losses</th>\n",
              "      <td>0.518344</td>\n",
              "      <td>1.000000</td>\n",
              "      <td>-0.060086</td>\n",
              "      <td>0.035541</td>\n",
              "      <td>0.109726</td>\n",
              "      <td>-0.413702</td>\n",
              "      <td>0.125858</td>\n",
              "      <td>0.207820</td>\n",
              "      <td>-0.031558</td>\n",
              "      <td>0.063330</td>\n",
              "      <td>-0.127259</td>\n",
              "      <td>0.290511</td>\n",
              "      <td>0.237697</td>\n",
              "      <td>-0.235523</td>\n",
              "      <td>-0.188564</td>\n",
              "      <td>0.202761</td>\n",
              "    </tr>\n",
              "    <tr>\n",
              "      <th>wheel-base</th>\n",
              "      <td>-0.520591</td>\n",
              "      <td>-0.060086</td>\n",
              "      <td>1.000000</td>\n",
              "      <td>0.871534</td>\n",
              "      <td>0.814991</td>\n",
              "      <td>0.555767</td>\n",
              "      <td>0.810181</td>\n",
              "      <td>0.649206</td>\n",
              "      <td>0.578159</td>\n",
              "      <td>0.167449</td>\n",
              "      <td>0.291431</td>\n",
              "      <td>0.516948</td>\n",
              "      <td>-0.289234</td>\n",
              "      <td>-0.580657</td>\n",
              "      <td>-0.611750</td>\n",
              "      <td>0.734419</td>\n",
              "    </tr>\n",
              "    <tr>\n",
              "      <th>length</th>\n",
              "      <td>-0.336257</td>\n",
              "      <td>0.035541</td>\n",
              "      <td>0.871534</td>\n",
              "      <td>1.000000</td>\n",
              "      <td>0.838338</td>\n",
              "      <td>0.499251</td>\n",
              "      <td>0.871291</td>\n",
              "      <td>0.725953</td>\n",
              "      <td>0.646318</td>\n",
              "      <td>0.121073</td>\n",
              "      <td>0.184814</td>\n",
              "      <td>0.672063</td>\n",
              "      <td>-0.234074</td>\n",
              "      <td>-0.724544</td>\n",
              "      <td>-0.724599</td>\n",
              "      <td>0.760952</td>\n",
              "    </tr>\n",
              "    <tr>\n",
              "      <th>width</th>\n",
              "      <td>-0.219186</td>\n",
              "      <td>0.109726</td>\n",
              "      <td>0.814991</td>\n",
              "      <td>0.838338</td>\n",
              "      <td>1.000000</td>\n",
              "      <td>0.292706</td>\n",
              "      <td>0.870595</td>\n",
              "      <td>0.779253</td>\n",
              "      <td>0.572554</td>\n",
              "      <td>0.196619</td>\n",
              "      <td>0.258752</td>\n",
              "      <td>0.681872</td>\n",
              "      <td>-0.232216</td>\n",
              "      <td>-0.666684</td>\n",
              "      <td>-0.693339</td>\n",
              "      <td>0.843371</td>\n",
              "    </tr>\n",
              "    <tr>\n",
              "      <th>height</th>\n",
              "      <td>-0.475185</td>\n",
              "      <td>-0.413702</td>\n",
              "      <td>0.555767</td>\n",
              "      <td>0.499251</td>\n",
              "      <td>0.292706</td>\n",
              "      <td>1.000000</td>\n",
              "      <td>0.367052</td>\n",
              "      <td>0.111083</td>\n",
              "      <td>0.254836</td>\n",
              "      <td>-0.091313</td>\n",
              "      <td>0.233308</td>\n",
              "      <td>0.034317</td>\n",
              "      <td>-0.245864</td>\n",
              "      <td>-0.199737</td>\n",
              "      <td>-0.226136</td>\n",
              "      <td>0.244836</td>\n",
              "    </tr>\n",
              "    <tr>\n",
              "      <th>curb-weight</th>\n",
              "      <td>-0.251880</td>\n",
              "      <td>0.125858</td>\n",
              "      <td>0.810181</td>\n",
              "      <td>0.871291</td>\n",
              "      <td>0.870595</td>\n",
              "      <td>0.367052</td>\n",
              "      <td>1.000000</td>\n",
              "      <td>0.888626</td>\n",
              "      <td>0.645792</td>\n",
              "      <td>0.173844</td>\n",
              "      <td>0.224724</td>\n",
              "      <td>0.790095</td>\n",
              "      <td>-0.259988</td>\n",
              "      <td>-0.762155</td>\n",
              "      <td>-0.789338</td>\n",
              "      <td>0.893639</td>\n",
              "    </tr>\n",
              "    <tr>\n",
              "      <th>engine-size</th>\n",
              "      <td>-0.109453</td>\n",
              "      <td>0.207820</td>\n",
              "      <td>0.649206</td>\n",
              "      <td>0.725953</td>\n",
              "      <td>0.779253</td>\n",
              "      <td>0.111083</td>\n",
              "      <td>0.888626</td>\n",
              "      <td>1.000000</td>\n",
              "      <td>0.595737</td>\n",
              "      <td>0.299683</td>\n",
              "      <td>0.141097</td>\n",
              "      <td>0.812073</td>\n",
              "      <td>-0.284686</td>\n",
              "      <td>-0.699139</td>\n",
              "      <td>-0.714095</td>\n",
              "      <td>0.841496</td>\n",
              "    </tr>\n",
              "    <tr>\n",
              "      <th>bore</th>\n",
              "      <td>-0.256469</td>\n",
              "      <td>-0.031558</td>\n",
              "      <td>0.578159</td>\n",
              "      <td>0.646318</td>\n",
              "      <td>0.572554</td>\n",
              "      <td>0.254836</td>\n",
              "      <td>0.645792</td>\n",
              "      <td>0.595737</td>\n",
              "      <td>1.000000</td>\n",
              "      <td>-0.102581</td>\n",
              "      <td>0.015119</td>\n",
              "      <td>0.560239</td>\n",
              "      <td>-0.312269</td>\n",
              "      <td>-0.590440</td>\n",
              "      <td>-0.590850</td>\n",
              "      <td>0.533890</td>\n",
              "    </tr>\n",
              "    <tr>\n",
              "      <th>stroke</th>\n",
              "      <td>-0.021285</td>\n",
              "      <td>0.063330</td>\n",
              "      <td>0.167449</td>\n",
              "      <td>0.121073</td>\n",
              "      <td>0.196619</td>\n",
              "      <td>-0.091313</td>\n",
              "      <td>0.173844</td>\n",
              "      <td>0.299683</td>\n",
              "      <td>-0.102581</td>\n",
              "      <td>1.000000</td>\n",
              "      <td>0.243587</td>\n",
              "      <td>0.148804</td>\n",
              "      <td>-0.011312</td>\n",
              "      <td>-0.020055</td>\n",
              "      <td>-0.012934</td>\n",
              "      <td>0.160664</td>\n",
              "    </tr>\n",
              "    <tr>\n",
              "      <th>compression-ratio</th>\n",
              "      <td>-0.138316</td>\n",
              "      <td>-0.127259</td>\n",
              "      <td>0.291431</td>\n",
              "      <td>0.184814</td>\n",
              "      <td>0.258752</td>\n",
              "      <td>0.233308</td>\n",
              "      <td>0.224724</td>\n",
              "      <td>0.141097</td>\n",
              "      <td>0.015119</td>\n",
              "      <td>0.243587</td>\n",
              "      <td>1.000000</td>\n",
              "      <td>-0.162305</td>\n",
              "      <td>-0.416769</td>\n",
              "      <td>0.278332</td>\n",
              "      <td>0.221483</td>\n",
              "      <td>0.209361</td>\n",
              "    </tr>\n",
              "    <tr>\n",
              "      <th>horsepower</th>\n",
              "      <td>-0.003949</td>\n",
              "      <td>0.290511</td>\n",
              "      <td>0.516948</td>\n",
              "      <td>0.672063</td>\n",
              "      <td>0.681872</td>\n",
              "      <td>0.034317</td>\n",
              "      <td>0.790095</td>\n",
              "      <td>0.812073</td>\n",
              "      <td>0.560239</td>\n",
              "      <td>0.148804</td>\n",
              "      <td>-0.162305</td>\n",
              "      <td>1.000000</td>\n",
              "      <td>0.074057</td>\n",
              "      <td>-0.837214</td>\n",
              "      <td>-0.827941</td>\n",
              "      <td>0.759874</td>\n",
              "    </tr>\n",
              "    <tr>\n",
              "      <th>peak-rpm</th>\n",
              "      <td>0.199106</td>\n",
              "      <td>0.237697</td>\n",
              "      <td>-0.289234</td>\n",
              "      <td>-0.234074</td>\n",
              "      <td>-0.232216</td>\n",
              "      <td>-0.245864</td>\n",
              "      <td>-0.259988</td>\n",
              "      <td>-0.284686</td>\n",
              "      <td>-0.312269</td>\n",
              "      <td>-0.011312</td>\n",
              "      <td>-0.416769</td>\n",
              "      <td>0.074057</td>\n",
              "      <td>1.000000</td>\n",
              "      <td>-0.052929</td>\n",
              "      <td>-0.032777</td>\n",
              "      <td>-0.171916</td>\n",
              "    </tr>\n",
              "    <tr>\n",
              "      <th>city-mpg</th>\n",
              "      <td>0.089550</td>\n",
              "      <td>-0.235523</td>\n",
              "      <td>-0.580657</td>\n",
              "      <td>-0.724544</td>\n",
              "      <td>-0.666684</td>\n",
              "      <td>-0.199737</td>\n",
              "      <td>-0.762155</td>\n",
              "      <td>-0.699139</td>\n",
              "      <td>-0.590440</td>\n",
              "      <td>-0.020055</td>\n",
              "      <td>0.278332</td>\n",
              "      <td>-0.837214</td>\n",
              "      <td>-0.052929</td>\n",
              "      <td>1.000000</td>\n",
              "      <td>0.971999</td>\n",
              "      <td>-0.692273</td>\n",
              "    </tr>\n",
              "    <tr>\n",
              "      <th>highway-mpg</th>\n",
              "      <td>0.149830</td>\n",
              "      <td>-0.188564</td>\n",
              "      <td>-0.611750</td>\n",
              "      <td>-0.724599</td>\n",
              "      <td>-0.693339</td>\n",
              "      <td>-0.226136</td>\n",
              "      <td>-0.789338</td>\n",
              "      <td>-0.714095</td>\n",
              "      <td>-0.590850</td>\n",
              "      <td>-0.012934</td>\n",
              "      <td>0.221483</td>\n",
              "      <td>-0.827941</td>\n",
              "      <td>-0.032777</td>\n",
              "      <td>0.971999</td>\n",
              "      <td>1.000000</td>\n",
              "      <td>-0.720090</td>\n",
              "    </tr>\n",
              "    <tr>\n",
              "      <th>price</th>\n",
              "      <td>-0.162794</td>\n",
              "      <td>0.202761</td>\n",
              "      <td>0.734419</td>\n",
              "      <td>0.760952</td>\n",
              "      <td>0.843371</td>\n",
              "      <td>0.244836</td>\n",
              "      <td>0.893639</td>\n",
              "      <td>0.841496</td>\n",
              "      <td>0.533890</td>\n",
              "      <td>0.160664</td>\n",
              "      <td>0.209361</td>\n",
              "      <td>0.759874</td>\n",
              "      <td>-0.171916</td>\n",
              "      <td>-0.692273</td>\n",
              "      <td>-0.720090</td>\n",
              "      <td>1.000000</td>\n",
              "    </tr>\n",
              "  </tbody>\n",
              "</table>\n",
              "</div>\n",
              "      <button class=\"colab-df-convert\" onclick=\"convertToInteractive('df-fe59cffa-43c1-4ff7-be95-c519f60483a5')\"\n",
              "              title=\"Convert this dataframe to an interactive table.\"\n",
              "              style=\"display:none;\">\n",
              "        \n",
              "  <svg xmlns=\"http://www.w3.org/2000/svg\" height=\"24px\"viewBox=\"0 0 24 24\"\n",
              "       width=\"24px\">\n",
              "    <path d=\"M0 0h24v24H0V0z\" fill=\"none\"/>\n",
              "    <path d=\"M18.56 5.44l.94 2.06.94-2.06 2.06-.94-2.06-.94-.94-2.06-.94 2.06-2.06.94zm-11 1L8.5 8.5l.94-2.06 2.06-.94-2.06-.94L8.5 2.5l-.94 2.06-2.06.94zm10 10l.94 2.06.94-2.06 2.06-.94-2.06-.94-.94-2.06-.94 2.06-2.06.94z\"/><path d=\"M17.41 7.96l-1.37-1.37c-.4-.4-.92-.59-1.43-.59-.52 0-1.04.2-1.43.59L10.3 9.45l-7.72 7.72c-.78.78-.78 2.05 0 2.83L4 21.41c.39.39.9.59 1.41.59.51 0 1.02-.2 1.41-.59l7.78-7.78 2.81-2.81c.8-.78.8-2.07 0-2.86zM5.41 20L4 18.59l7.72-7.72 1.47 1.35L5.41 20z\"/>\n",
              "  </svg>\n",
              "      </button>\n",
              "      \n",
              "  <style>\n",
              "    .colab-df-container {\n",
              "      display:flex;\n",
              "      flex-wrap:wrap;\n",
              "      gap: 12px;\n",
              "    }\n",
              "\n",
              "    .colab-df-convert {\n",
              "      background-color: #E8F0FE;\n",
              "      border: none;\n",
              "      border-radius: 50%;\n",
              "      cursor: pointer;\n",
              "      display: none;\n",
              "      fill: #1967D2;\n",
              "      height: 32px;\n",
              "      padding: 0 0 0 0;\n",
              "      width: 32px;\n",
              "    }\n",
              "\n",
              "    .colab-df-convert:hover {\n",
              "      background-color: #E2EBFA;\n",
              "      box-shadow: 0px 1px 2px rgba(60, 64, 67, 0.3), 0px 1px 3px 1px rgba(60, 64, 67, 0.15);\n",
              "      fill: #174EA6;\n",
              "    }\n",
              "\n",
              "    [theme=dark] .colab-df-convert {\n",
              "      background-color: #3B4455;\n",
              "      fill: #D2E3FC;\n",
              "    }\n",
              "\n",
              "    [theme=dark] .colab-df-convert:hover {\n",
              "      background-color: #434B5C;\n",
              "      box-shadow: 0px 1px 3px 1px rgba(0, 0, 0, 0.15);\n",
              "      filter: drop-shadow(0px 1px 2px rgba(0, 0, 0, 0.3));\n",
              "      fill: #FFFFFF;\n",
              "    }\n",
              "  </style>\n",
              "\n",
              "      <script>\n",
              "        const buttonEl =\n",
              "          document.querySelector('#df-fe59cffa-43c1-4ff7-be95-c519f60483a5 button.colab-df-convert');\n",
              "        buttonEl.style.display =\n",
              "          google.colab.kernel.accessAllowed ? 'block' : 'none';\n",
              "\n",
              "        async function convertToInteractive(key) {\n",
              "          const element = document.querySelector('#df-fe59cffa-43c1-4ff7-be95-c519f60483a5');\n",
              "          const dataTable =\n",
              "            await google.colab.kernel.invokeFunction('convertToInteractive',\n",
              "                                                     [key], {});\n",
              "          if (!dataTable) return;\n",
              "\n",
              "          const docLinkHtml = 'Like what you see? Visit the ' +\n",
              "            '<a target=\"_blank\" href=https://colab.research.google.com/notebooks/data_table.ipynb>data table notebook</a>'\n",
              "            + ' to learn more about interactive tables.';\n",
              "          element.innerHTML = '';\n",
              "          dataTable['output_type'] = 'display_data';\n",
              "          await google.colab.output.renderOutput(dataTable, element);\n",
              "          const docLink = document.createElement('div');\n",
              "          docLink.innerHTML = docLinkHtml;\n",
              "          element.appendChild(docLink);\n",
              "        }\n",
              "      </script>\n",
              "    </div>\n",
              "  </div>\n",
              "  "
            ],
            "text/plain": [
              "                   symboling  normalized-losses  ...  highway-mpg     price\n",
              "symboling           1.000000           0.518344  ...     0.149830 -0.162794\n",
              "normalized-losses   0.518344           1.000000  ...    -0.188564  0.202761\n",
              "wheel-base         -0.520591          -0.060086  ...    -0.611750  0.734419\n",
              "length             -0.336257           0.035541  ...    -0.724599  0.760952\n",
              "width              -0.219186           0.109726  ...    -0.693339  0.843371\n",
              "height             -0.475185          -0.413702  ...    -0.226136  0.244836\n",
              "curb-weight        -0.251880           0.125858  ...    -0.789338  0.893639\n",
              "engine-size        -0.109453           0.207820  ...    -0.714095  0.841496\n",
              "bore               -0.256469          -0.031558  ...    -0.590850  0.533890\n",
              "stroke             -0.021285           0.063330  ...    -0.012934  0.160664\n",
              "compression-ratio  -0.138316          -0.127259  ...     0.221483  0.209361\n",
              "horsepower         -0.003949           0.290511  ...    -0.827941  0.759874\n",
              "peak-rpm            0.199106           0.237697  ...    -0.032777 -0.171916\n",
              "city-mpg            0.089550          -0.235523  ...     0.971999 -0.692273\n",
              "highway-mpg         0.149830          -0.188564  ...     1.000000 -0.720090\n",
              "price              -0.162794           0.202761  ...    -0.720090  1.000000\n",
              "\n",
              "[16 rows x 16 columns]"
            ]
          },
          "metadata": {},
          "execution_count": 65
        }
      ]
    },
    {
      "cell_type": "code",
      "source": [
        "sns.set(rc={'figure.figsize':(11.7,8.27)})\n",
        "\n",
        "sns.heatmap(df.corr());\n",
        "\n"
      ],
      "metadata": {
        "colab": {
          "base_uri": "https://localhost:8080/",
          "height": 594
        },
        "id": "2SxoZzIHh5St",
        "outputId": "01c82116-7828-4c93-fef6-a13902194cac"
      },
      "execution_count": 76,
      "outputs": [
        {
          "output_type": "display_data",
          "data": {
            "image/png": "[encoded data removed]",
            "text/plain": [
              "<Figure size 842.4x595.44 with 2 Axes>"
            ]
          },
          "metadata": {}
        }
      ]
    },
    {
      "cell_type": "code",
      "source": [
        "    sns.regplot(x=\"engine-size\", y=\"price\", data=df)\n"
      ],
      "metadata": {
        "colab": {
          "base_uri": "https://localhost:8080/",
          "height": 296
        },
        "id": "fRs2iXG7iXj-",
        "outputId": "1cbe935d-46c7-4a8d-fe8b-9b92dc463f44"
      },
      "execution_count": 69,
      "outputs": [
        {
          "output_type": "execute_result",
          "data": {
            "text/plain": [
              "<matplotlib.axes._subplots.AxesSubplot at 0x7f369d705890>"
            ]
          },
          "metadata": {},
          "execution_count": 69
        },
        {
          "output_type": "display_data",
          "data": {
            "image/png": "[encoded data removed]",
            "text/plain": [
              "<Figure size 432x288 with 1 Axes>"
            ]
          },
          "metadata": {
            "needs_background": "light"
          }
        }
      ]
    },
    {
      "cell_type": "code",
      "source": [
        "    sns.regplot(x=\"horsepower\", y=\"price\", data=df)\n"
      ],
      "metadata": {
        "colab": {
          "base_uri": "https://localhost:8080/",
          "height": 296
        },
        "id": "-DiSQS-tiZFz",
        "outputId": "d6a60520-884b-4d07-882d-b350b29edd9c"
      },
      "execution_count": 70,
      "outputs": [
        {
          "output_type": "execute_result",
          "data": {
            "text/plain": [
              "<matplotlib.axes._subplots.AxesSubplot at 0x7f369d1bca90>"
            ]
          },
          "metadata": {},
          "execution_count": 70
        },
        {
          "output_type": "display_data",
          "data": {
            "image/png": "[encoded data removed]",
            "text/plain": [
              "<Figure size 432x288 with 1 Axes>"
            ]
          },
          "metadata": {
            "needs_background": "light"
          }
        }
      ]
    },
    {
      "cell_type": "code",
      "source": [
        "    sns.regplot(x=\"curb-weight\", y=\"price\", data=df)\n"
      ],
      "metadata": {
        "colab": {
          "base_uri": "https://localhost:8080/",
          "height": 296
        },
        "id": "2ErczlI8ieCE",
        "outputId": "09241dcc-4b6c-44f4-ef70-d9dfe6291fdf"
      },
      "execution_count": 71,
      "outputs": [
        {
          "output_type": "execute_result",
          "data": {
            "text/plain": [
              "<matplotlib.axes._subplots.AxesSubplot at 0x7f369d1b8b10>"
            ]
          },
          "metadata": {},
          "execution_count": 71
        },
        {
          "output_type": "display_data",
          "data": {
            "image/png": "[encoded data removed]",
            "text/plain": [
              "<Figure size 432x288 with 1 Axes>"
            ]
          },
          "metadata": {
            "needs_background": "light"
          }
        }
      ]
    },
    {
      "cell_type": "code",
      "source": [
        "    sns.regplot(x=\"highway-mpg\", y=\"price\", data=df)\n"
      ],
      "metadata": {
        "colab": {
          "base_uri": "https://localhost:8080/",
          "height": 296
        },
        "id": "db15aFPdiq_E",
        "outputId": "cd950899-98c9-41fa-a1a5-afaba5c521a8"
      },
      "execution_count": 72,
      "outputs": [
        {
          "output_type": "execute_result",
          "data": {
            "text/plain": [
              "<matplotlib.axes._subplots.AxesSubplot at 0x7f369d134ed0>"
            ]
          },
          "metadata": {},
          "execution_count": 72
        },
        {
          "output_type": "display_data",
          "data": {
            "image/png": "[encoded data removed]",
            "text/plain": [
              "<Figure size 432x288 with 1 Axes>"
            ]
          },
          "metadata": {
            "needs_background": "light"
          }
        }
      ]
    },
    {
      "cell_type": "code",
      "source": [
        "    sns.regplot(x=\"city-mpg\", y=\"price\", data=df)\n"
      ],
      "metadata": {
        "colab": {
          "base_uri": "https://localhost:8080/",
          "height": 296
        },
        "id": "7ZoTIiYZjKCd",
        "outputId": "7699da34-e466-4e07-c66e-59879e65b424"
      },
      "execution_count": 73,
      "outputs": [
        {
          "output_type": "execute_result",
          "data": {
            "text/plain": [
              "<matplotlib.axes._subplots.AxesSubplot at 0x7f369d099310>"
            ]
          },
          "metadata": {},
          "execution_count": 73
        },
        {
          "output_type": "display_data",
          "data": {
            "image/png": "[encoded data removed]",
            "text/plain": [
              "<Figure size 432x288 with 1 Axes>"
            ]
          },
          "metadata": {
            "needs_background": "light"
          }
        }
      ]
    },
    {
      "cell_type": "code",
      "source": [
        "    sns.regplot(x=\"normalized-losses\", y=\"price\", data=df)\n"
      ],
      "metadata": {
        "colab": {
          "base_uri": "https://localhost:8080/",
          "height": 296
        },
        "id": "lCmf1MGmjT9u",
        "outputId": "2f86afca-7ee0-4083-b25c-b3bef6844199"
      },
      "execution_count": 75,
      "outputs": [
        {
          "output_type": "execute_result",
          "data": {
            "text/plain": [
              "<matplotlib.axes._subplots.AxesSubplot at 0x7f369d00df50>"
            ]
          },
          "metadata": {},
          "execution_count": 75
        },
        {
          "output_type": "display_data",
          "data": {
            "image/png": "[encoded data removed]",
            "text/plain": [
              "<Figure size 432x288 with 1 Axes>"
            ]
          },
          "metadata": {
            "needs_background": "light"
          }
        }
      ]
    },
    {
      "cell_type": "code",
      "source": [
        "X = df[[\"highway-mpg\", \"curb-weight\", \"horsepower\"]]"
      ],
      "metadata": {
        "id": "enMLtO-U-2wS"
      },
      "execution_count": null,
      "outputs": []
    },
    {
      "cell_type": "code",
      "source": [
        "X_train, X_test, Y_train, Y_test = train_test_split(, , test_size = 0.2, random_state=5)"
      ],
      "metadata": {
        "colab": {
          "base_uri": "https://localhost:8080/",
          "height": 166
        },
        "id": "rUzEmDhJ88sh",
        "outputId": "6f81146c-fc11-4406-c87d-2d7c1d9303ff"
      },
      "execution_count": 79,
      "outputs": [
        {
          "output_type": "error",
          "ename": "NameError",
          "evalue": "ignored",
          "traceback": [
            "\u001b[0;31m---------------------------------------------------------------------------\u001b[0m",
            "\u001b[0;31mNameError\u001b[0m                                 Traceback (most recent call last)",
            "\u001b[0;32m<ipython-input-79-3a6d1220fa55>\u001b[0m in \u001b[0;36m<module>\u001b[0;34m()\u001b[0m\n\u001b[0;32m----> 1\u001b[0;31m \u001b[0mX_train\u001b[0m\u001b[0;34m,\u001b[0m \u001b[0mX_test\u001b[0m\u001b[0;34m,\u001b[0m \u001b[0mY_train\u001b[0m\u001b[0;34m,\u001b[0m \u001b[0mY_test\u001b[0m \u001b[0;34m=\u001b[0m \u001b[0mtrain_test_split\u001b[0m\u001b[0;34m(\u001b[0m\u001b[0mX\u001b[0m\u001b[0;34m,\u001b[0m \u001b[0mY\u001b[0m\u001b[0;34m,\u001b[0m \u001b[0mtest_size\u001b[0m \u001b[0;34m=\u001b[0m \u001b[0;36m0.2\u001b[0m\u001b[0;34m,\u001b[0m \u001b[0mrandom_state\u001b[0m\u001b[0;34m=\u001b[0m\u001b[0;36m5\u001b[0m\u001b[0;34m)\u001b[0m\u001b[0;34m\u001b[0m\u001b[0;34m\u001b[0m\u001b[0m\n\u001b[0m",
            "\u001b[0;31mNameError\u001b[0m: name 'X' is not defined"
          ]
        }
      ]
    }
  ]
}